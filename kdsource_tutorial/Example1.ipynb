{
 "cells": [
  {
   "cell_type": "code",
   "execution_count": 1,
   "metadata": {},
   "outputs": [],
   "source": [
    "import numpy as np"
   ]
  },
  {
   "cell_type": "code",
   "execution_count": 1,
   "metadata": {},
   "outputs": [],
   "source": [
    "import kdsource as kds"
   ]
  },
  {
   "cell_type": "code",
   "execution_count": 3,
   "metadata": {},
   "outputs": [],
   "source": [
    "import os \n",
    "\n",
    "os.environ['PATH'] += \"/home/jorobledo/Documents/Docencia/arfitec/KDSource/bin\""
   ]
  },
  {
   "cell_type": "code",
   "execution_count": 9,
   "metadata": {},
   "outputs": [
    {
     "name": "stdout",
     "output_type": "stream",
     "text": [
      "ssv_open_file: Opened file \"tracks\":\n",
      "MCPL: Attempting to compress file samples.mcpl with gzip\n",
      "MCPL: Succesfully compressed file into samples.mcpl.gz\n",
      "Created samples.mcpl.gz\n"
     ]
    }
   ],
   "source": [
    "!../KDSource/bin/ssv2mcpl 'tracks' 'samples'"
   ]
  },
  {
   "cell_type": "code",
   "execution_count": 11,
   "metadata": {},
   "outputs": [
    {
     "name": "stdout",
     "output_type": "stream",
     "text": [
      "Using existing file samples.mcpl.gz\n",
      "sum_weights = 223.0\n",
      "p2 = 223.0\n",
      "N = 223\n",
      "N_eff = 223.0\n"
     ]
    }
   ],
   "source": [
    "plist = kds.PList('samples.mcpl.gz')"
   ]
  },
  {
   "cell_type": "code",
   "execution_count": 17,
   "metadata": {},
   "outputs": [],
   "source": [
    "# Geometry: define changes of variables\n",
    "E0=10\n",
    "geom = kds.Geometry([kds.geom.Lethargy(E0),\n",
    "                     kds.geom.SurfXY(),\n",
    "                     kds.geom.Isotrop()])\n",
    "\n",
    "# Create KDSource\n",
    "s = kds.KDSource(plist, geom)"
   ]
  },
  {
   "cell_type": "code",
   "execution_count": 23,
   "metadata": {},
   "outputs": [],
   "source": [
    "# We set more importance to the energy\n",
    "var_importance = [3,1,1,1,1,1]\n",
    "\n",
    "# Calculate scaling as std / var_imp\n",
    "\n",
    "parts, ws = s.plist.get(N=-1)\n",
    "scaling = s.geom.std(parts=parts)\n",
    "scaling /= var_importance"
   ]
  },
  {
   "cell_type": "markdown",
   "metadata": {},
   "source": [
    "$N=-1$ means that all particles in the list will be used. "
   ]
  },
  {
   "cell_type": "code",
   "execution_count": 24,
   "metadata": {},
   "outputs": [],
   "source": [
    "N=-1"
   ]
  },
  {
   "cell_type": "markdown",
   "metadata": {},
   "source": [
    "# Optimization methods"
   ]
  },
  {
   "cell_type": "markdown",
   "metadata": {},
   "source": [
    "#### Silvermann's Rule"
   ]
  },
  {
   "cell_type": "code",
   "execution_count": 25,
   "metadata": {},
   "outputs": [
    {
     "name": "stdout",
     "output_type": "stream",
     "text": [
      "Using 223 particles for fit.\n",
      "Calculating bw ... \n",
      "Done\n",
      "Optimal bw (silv) = [[1.16255925 0.39540726 0.39794341 0.1150088  0.1150088  0.1150088 ]]\n"
     ]
    }
   ],
   "source": [
    "s.bw_method = \"silv\"\n",
    "s.fit(N, scaling=scaling)"
   ]
  },
  {
   "cell_type": "markdown",
   "metadata": {},
   "source": [
    "## Saving source file"
   ]
  },
  {
   "cell_type": "code",
   "execution_count": 26,
   "metadata": {},
   "outputs": [
    {
     "name": "stdout",
     "output_type": "stream",
     "text": [
      "Successfully saved parameters file source.xml\n"
     ]
    },
    {
     "data": {
      "text/plain": [
       "'source.xml'"
      ]
     },
     "execution_count": 26,
     "metadata": {},
     "output_type": "execute_result"
    }
   ],
   "source": [
    "xmlfile = 'source.xml'\n",
    "s.save(xmlfile)"
   ]
  },
  {
   "cell_type": "markdown",
   "metadata": {},
   "source": [
    "## Sampling new particles"
   ]
  },
  {
   "cell_type": "code",
   "execution_count": 27,
   "metadata": {},
   "outputs": [
    {
     "name": "stdout",
     "output_type": "stream",
     "text": [
      "Reading xmlfile source.xml...\n",
      "Done.\n",
      "Resampling...\n",
      "MCPL: Attempting to compress file sample.mcpl with gzip\n",
      "MCPL: Succesfully compressed file into sample.mcpl.gz\n",
      "Successfully sampled 1000 particles.\n"
     ]
    }
   ],
   "source": [
    "n_new_particles = 1e3\n",
    "\n",
    "!../KDSource/bin/kdtool resample \"source.xml\" -o \"sample\" -n $n_new_particles"
   ]
  },
  {
   "cell_type": "code",
   "execution_count": 28,
   "metadata": {},
   "outputs": [],
   "source": [
    "import matplotlib.pyplot as plt"
   ]
  },
  {
   "cell_type": "code",
   "execution_count": 29,
   "metadata": {},
   "outputs": [],
   "source": [
    "import mcpl"
   ]
  },
  {
   "cell_type": "code",
   "execution_count": 30,
   "metadata": {},
   "outputs": [],
   "source": [
    "# Histogram of MCPL particle list\n",
    "def mcpl_hist(mcplfile, var, bins, part0=None, part1=None, **kwargs):\n",
    "    pl = mcpl.MCPLFile(mcplfile)\n",
    "    hist = np.zeros(len(bins)-1)\n",
    "    I = 0\n",
    "    for pb in pl.particle_blocks:\n",
    "        parts = np.stack((pb.ekin,pb.x,pb.y,pb.z,pb.ux,pb.uy,pb.uz), axis=1)\n",
    "        mask1 = np.ones(len(parts), dtype=bool)\n",
    "        if part0 is not None:\n",
    "            mask1 = np.logical_and.reduce(part0 <= parts, axis=1)\n",
    "        mask2 = np.ones(len(parts), dtype=bool)\n",
    "        if part1 is not None:\n",
    "            mask2 = np.logical_and.reduce(parts <= part1, axis=1)\n",
    "        mask = np.logical_and(mask1, mask2)\n",
    "        data = parts[mask][:,var]\n",
    "        hist += np.histogram(data, bins=bins, weights=pb.weight[mask], **kwargs)[0]\n",
    "        I += np.sum(pb.weight)\n",
    "    hist /= I\n",
    "    hist /= (bins[1:]-bins[:-1])\n",
    "    return hist"
   ]
  },
  {
   "cell_type": "code",
   "execution_count": 32,
   "metadata": {},
   "outputs": [],
   "source": [
    "import numpy as np"
   ]
  },
  {
   "cell_type": "code",
   "execution_count": 43,
   "metadata": {},
   "outputs": [
    {
     "data": {
      "image/png": "[encoded data removed]",
      "text/plain": [
       "<Figure size 720x432 with 1 Axes>"
      ]
     },
     "metadata": {
      "needs_background": "light"
     },
     "output_type": "display_data"
    }
   ],
   "source": [
    "plt.figure(figsize=(10,6))\n",
    "EE = np.logspace(-5,1,50)\n",
    "fig, scores = s.plot_E(EE)\n",
    "hist = mcpl_hist(\"sample.mcpl.gz\", 0, EE)\n",
    "widths = (EE[1:]-EE[:-1])\n",
    "plt.bar(EE[:-1], hist, width=widths, align=\"edge\", linewidth=.5, ec=\"k\",\n",
    "        fc=\"#9CC57C\", alpha=.7, label=\"Resampled\")\n",
    "plt.show()"
   ]
  }
 ],
 "metadata": {
  "interpreter": {
   "hash": "41887fd43579acd99efd83fd4d1424f547cced4bd817aa56a496f1d9646e5564"
  },
  "kernelspec": {
   "display_name": "Python 3.9.0 ('mcsim')",
   "language": "python",
   "name": "python3"
  },
  "language_info": {
   "codemirror_mode": {
    "name": "ipython",
    "version": 3
   },
   "file_extension": ".py",
   "mimetype": "text/x-python",
   "name": "python",
   "nbconvert_exporter": "python",
   "pygments_lexer": "ipython3",
   "version": "3.9.12"
  }
 },
 "nbformat": 4,
 "nbformat_minor": 2
}
